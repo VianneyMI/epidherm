{
 "metadata": {
  "language_info": {
   "codemirror_mode": {
    "name": "ipython",
    "version": 3
   },
   "file_extension": ".py",
   "mimetype": "text/x-python",
   "name": "python",
   "nbconvert_exporter": "python",
   "pygments_lexer": "ipython3",
   "version": "3.7.4-final"
  },
  "orig_nbformat": 2,
  "kernelspec": {
   "name": "python374jvsc74a57bd00600588c3b5f4418cbe7b5ebc6825b479f3bc010269d8b60d75058cdd010adfe",
   "display_name": "Python 3.7.4 64-bit"
  },
  "metadata": {
   "interpreter": {
    "hash": "0600588c3b5f4418cbe7b5ebc6825b479f3bc010269d8b60d75058cdd010adfe"
   }
  }
 },
 "nbformat": 4,
 "nbformat_minor": 2,
 "cells": [
  {
   "cell_type": "code",
   "execution_count": 1,
   "metadata": {},
   "outputs": [],
   "source": [
    "import json\n",
    "import pandas as pd"
   ]
  },
  {
   "cell_type": "code",
   "execution_count": 2,
   "metadata": {},
   "outputs": [
    {
     "output_type": "execute_result",
     "data": {
      "text/plain": [
       "'[    {        \"name\":\"material1\",        \"family\":{            \"id\":1,            \"name\":\"family1\"        },        \"details\":{            \"masse_surfacique\":10,            \"masse_combustible\":9        }    },    {        \"name\":\"material2\",        \"family\":{            \"id\":1,            \"name\":\"family1\"        },        \"details\":{            \"masse_surfacique\":13,            \"masse_combustible\":13        }    },    {        \"name\":\"material3\",        \"family\":{            \"id\":1,            \"name\":\"family1\"        },        \"details\":{            \"masse_surfacique\":8,            \"masse_combustible\":8        }    },    {        \"name\":\"material4\",        \"family\":{            \"id\":2,            \"name\":\"family2\"        },        \"details\":{            \"masse_surfacique\":11,            \"masse_combustible\":10        }    },    {        \"name\":\"material5\",        \"family\":{            \"id\":2,            \"name\":\"family2\"        },        \"details\":{            \"masse_surfacique\":4,            \"masse_combustible\":3        }    },    {        \"name\":\"material6\",        \"family\":{            \"id\":3,            \"name\":\"family3\"        },        \"details\":{            \"masse_surfacique\":10,            \"masse_combustible\":9        }    }]'"
      ]
     },
     "metadata": {},
     "execution_count": 2
    }
   ],
   "source": [
    "with open('data.json', 'r') as file:\n",
    "    data = file.read().replace('\\n','')\n",
    "data"
   ]
  },
  {
   "cell_type": "code",
   "execution_count": 3,
   "metadata": {},
   "outputs": [
    {
     "output_type": "execute_result",
     "data": {
      "text/plain": [
       "[{'name': 'material1',\n",
       "  'family': {'id': 1, 'name': 'family1'},\n",
       "  'details': {'masse_surfacique': 10, 'masse_combustible': 9}},\n",
       " {'name': 'material2',\n",
       "  'family': {'id': 1, 'name': 'family1'},\n",
       "  'details': {'masse_surfacique': 13, 'masse_combustible': 13}},\n",
       " {'name': 'material3',\n",
       "  'family': {'id': 1, 'name': 'family1'},\n",
       "  'details': {'masse_surfacique': 8, 'masse_combustible': 8}},\n",
       " {'name': 'material4',\n",
       "  'family': {'id': 2, 'name': 'family2'},\n",
       "  'details': {'masse_surfacique': 11, 'masse_combustible': 10}},\n",
       " {'name': 'material5',\n",
       "  'family': {'id': 2, 'name': 'family2'},\n",
       "  'details': {'masse_surfacique': 4, 'masse_combustible': 3}},\n",
       " {'name': 'material6',\n",
       "  'family': {'id': 3, 'name': 'family3'},\n",
       "  'details': {'masse_surfacique': 10, 'masse_combustible': 9}}]"
      ]
     },
     "metadata": {},
     "execution_count": 3
    }
   ],
   "source": [
    "MATERIALS = json.loads(data)\n",
    "MATERIALS"
   ]
  },
  {
   "cell_type": "code",
   "execution_count": 4,
   "metadata": {},
   "outputs": [],
   "source": [
    "MATERIALS = pd.json_normalize(MATERIALS)"
   ]
  },
  {
   "cell_type": "code",
   "execution_count": 5,
   "metadata": {},
   "outputs": [
    {
     "output_type": "execute_result",
     "data": {
      "text/plain": [
       "        name  family.id family.name  details.masse_surfacique  \\\n",
       "0  material1          1     family1                        10   \n",
       "1  material2          1     family1                        13   \n",
       "2  material3          1     family1                         8   \n",
       "3  material4          2     family2                        11   \n",
       "4  material5          2     family2                         4   \n",
       "5  material6          3     family3                        10   \n",
       "\n",
       "   details.masse_combustible  \n",
       "0                          9  \n",
       "1                         13  \n",
       "2                          8  \n",
       "3                         10  \n",
       "4                          3  \n",
       "5                          9  "
      ],
      "text/html": "<div>\n<style scoped>\n    .dataframe tbody tr th:only-of-type {\n        vertical-align: middle;\n    }\n\n    .dataframe tbody tr th {\n        vertical-align: top;\n    }\n\n    .dataframe thead th {\n        text-align: right;\n    }\n</style>\n<table border=\"1\" class=\"dataframe\">\n  <thead>\n    <tr style=\"text-align: right;\">\n      <th></th>\n      <th>name</th>\n      <th>family.id</th>\n      <th>family.name</th>\n      <th>details.masse_surfacique</th>\n      <th>details.masse_combustible</th>\n    </tr>\n  </thead>\n  <tbody>\n    <tr>\n      <th>0</th>\n      <td>material1</td>\n      <td>1</td>\n      <td>family1</td>\n      <td>10</td>\n      <td>9</td>\n    </tr>\n    <tr>\n      <th>1</th>\n      <td>material2</td>\n      <td>1</td>\n      <td>family1</td>\n      <td>13</td>\n      <td>13</td>\n    </tr>\n    <tr>\n      <th>2</th>\n      <td>material3</td>\n      <td>1</td>\n      <td>family1</td>\n      <td>8</td>\n      <td>8</td>\n    </tr>\n    <tr>\n      <th>3</th>\n      <td>material4</td>\n      <td>2</td>\n      <td>family2</td>\n      <td>11</td>\n      <td>10</td>\n    </tr>\n    <tr>\n      <th>4</th>\n      <td>material5</td>\n      <td>2</td>\n      <td>family2</td>\n      <td>4</td>\n      <td>3</td>\n    </tr>\n    <tr>\n      <th>5</th>\n      <td>material6</td>\n      <td>3</td>\n      <td>family3</td>\n      <td>10</td>\n      <td>9</td>\n    </tr>\n  </tbody>\n</table>\n</div>"
     },
     "metadata": {},
     "execution_count": 5
    }
   ],
   "source": [
    "MATERIALS"
   ]
  },
  {
   "cell_type": "code",
   "execution_count": 7,
   "metadata": {},
   "outputs": [
    {
     "output_type": "execute_result",
     "data": {
      "text/plain": [
       "             name  family.id  details.masse_surfacique  \\\n",
       "family.name                                              \n",
       "family1         3          3                         3   \n",
       "family2         2          2                         2   \n",
       "family3         1          1                         1   \n",
       "\n",
       "             details.masse_combustible  \n",
       "family.name                             \n",
       "family1                              3  \n",
       "family2                              2  \n",
       "family3                              1  "
      ],
      "text/html": "<div>\n<style scoped>\n    .dataframe tbody tr th:only-of-type {\n        vertical-align: middle;\n    }\n\n    .dataframe tbody tr th {\n        vertical-align: top;\n    }\n\n    .dataframe thead th {\n        text-align: right;\n    }\n</style>\n<table border=\"1\" class=\"dataframe\">\n  <thead>\n    <tr style=\"text-align: right;\">\n      <th></th>\n      <th>name</th>\n      <th>family.id</th>\n      <th>details.masse_surfacique</th>\n      <th>details.masse_combustible</th>\n    </tr>\n    <tr>\n      <th>family.name</th>\n      <th></th>\n      <th></th>\n      <th></th>\n      <th></th>\n    </tr>\n  </thead>\n  <tbody>\n    <tr>\n      <th>family1</th>\n      <td>3</td>\n      <td>3</td>\n      <td>3</td>\n      <td>3</td>\n    </tr>\n    <tr>\n      <th>family2</th>\n      <td>2</td>\n      <td>2</td>\n      <td>2</td>\n      <td>2</td>\n    </tr>\n    <tr>\n      <th>family3</th>\n      <td>1</td>\n      <td>1</td>\n      <td>1</td>\n      <td>1</td>\n    </tr>\n  </tbody>\n</table>\n</div>"
     },
     "metadata": {},
     "execution_count": 7
    }
   ],
   "source": [
    "temp = MATERIALS.groupby('family.name').count()\n",
    "temp"
   ]
  },
  {
   "cell_type": "code",
   "execution_count": 8,
   "metadata": {},
   "outputs": [
    {
     "output_type": "execute_result",
     "data": {
      "text/plain": [
       "             family.id  details.masse_surfacique  details.masse_combustible\n",
       "family.name                                                                \n",
       "family1              1                        13                         13\n",
       "family2              2                        11                         10\n",
       "family3              3                        10                          9"
      ],
      "text/html": "<div>\n<style scoped>\n    .dataframe tbody tr th:only-of-type {\n        vertical-align: middle;\n    }\n\n    .dataframe tbody tr th {\n        vertical-align: top;\n    }\n\n    .dataframe thead th {\n        text-align: right;\n    }\n</style>\n<table border=\"1\" class=\"dataframe\">\n  <thead>\n    <tr style=\"text-align: right;\">\n      <th></th>\n      <th>family.id</th>\n      <th>details.masse_surfacique</th>\n      <th>details.masse_combustible</th>\n    </tr>\n    <tr>\n      <th>family.name</th>\n      <th></th>\n      <th></th>\n      <th></th>\n    </tr>\n  </thead>\n  <tbody>\n    <tr>\n      <th>family1</th>\n      <td>1</td>\n      <td>13</td>\n      <td>13</td>\n    </tr>\n    <tr>\n      <th>family2</th>\n      <td>2</td>\n      <td>11</td>\n      <td>10</td>\n    </tr>\n    <tr>\n      <th>family3</th>\n      <td>3</td>\n      <td>10</td>\n      <td>9</td>\n    </tr>\n  </tbody>\n</table>\n</div>"
     },
     "metadata": {},
     "execution_count": 8
    }
   ],
   "source": [
    "MATERIALS.groupby('family.name').max('details.masse_surfacique')"
   ]
  },
  {
   "cell_type": "code",
   "execution_count": 16,
   "metadata": {},
   "outputs": [
    {
     "output_type": "execute_result",
     "data": {
      "text/plain": [
       "             nb_materials  min_ms  max_ms\n",
       "family.name                              \n",
       "family1                 3       8      13\n",
       "family2                 2       4      11\n",
       "family3                 1      10      10"
      ],
      "text/html": "<div>\n<style scoped>\n    .dataframe tbody tr th:only-of-type {\n        vertical-align: middle;\n    }\n\n    .dataframe tbody tr th {\n        vertical-align: top;\n    }\n\n    .dataframe thead th {\n        text-align: right;\n    }\n</style>\n<table border=\"1\" class=\"dataframe\">\n  <thead>\n    <tr style=\"text-align: right;\">\n      <th></th>\n      <th>nb_materials</th>\n      <th>min_ms</th>\n      <th>max_ms</th>\n    </tr>\n    <tr>\n      <th>family.name</th>\n      <th></th>\n      <th></th>\n      <th></th>\n    </tr>\n  </thead>\n  <tbody>\n    <tr>\n      <th>family1</th>\n      <td>3</td>\n      <td>8</td>\n      <td>13</td>\n    </tr>\n    <tr>\n      <th>family2</th>\n      <td>2</td>\n      <td>4</td>\n      <td>11</td>\n    </tr>\n    <tr>\n      <th>family3</th>\n      <td>1</td>\n      <td>10</td>\n      <td>10</td>\n    </tr>\n  </tbody>\n</table>\n</div>"
     },
     "metadata": {},
     "execution_count": 16
    }
   ],
   "source": [
    "\n",
    "output['nb_materials'] = MATERIALS.groupby('family.name').count()['name']\n",
    "output['min_ms'] = MATERIALS.groupby('family.name').min('details.masse_surfacique')['details.masse_surfacique']\n",
    "output['max_ms'] = MATERIALS.groupby('family.name').max('details.masse_surfacique')['details.masse_surfacique']\n",
    "output\n"
   ]
  },
  {
   "cell_type": "code",
   "execution_count": 23,
   "metadata": {},
   "outputs": [],
   "source": [
    "output.reset_index(inplace=True)"
   ]
  },
  {
   "cell_type": "code",
   "execution_count": 25,
   "metadata": {},
   "outputs": [
    {
     "output_type": "execute_result",
     "data": {
      "text/plain": [
       "  family.name  nb_materials  min_ms  max_ms\n",
       "0     family1             3       8      13\n",
       "1     family2             2       4      11\n",
       "2     family3             1      10      10"
      ],
      "text/html": "<div>\n<style scoped>\n    .dataframe tbody tr th:only-of-type {\n        vertical-align: middle;\n    }\n\n    .dataframe tbody tr th {\n        vertical-align: top;\n    }\n\n    .dataframe thead th {\n        text-align: right;\n    }\n</style>\n<table border=\"1\" class=\"dataframe\">\n  <thead>\n    <tr style=\"text-align: right;\">\n      <th></th>\n      <th>family.name</th>\n      <th>nb_materials</th>\n      <th>min_ms</th>\n      <th>max_ms</th>\n    </tr>\n  </thead>\n  <tbody>\n    <tr>\n      <th>0</th>\n      <td>family1</td>\n      <td>3</td>\n      <td>8</td>\n      <td>13</td>\n    </tr>\n    <tr>\n      <th>1</th>\n      <td>family2</td>\n      <td>2</td>\n      <td>4</td>\n      <td>11</td>\n    </tr>\n    <tr>\n      <th>2</th>\n      <td>family3</td>\n      <td>1</td>\n      <td>10</td>\n      <td>10</td>\n    </tr>\n  </tbody>\n</table>\n</div>"
     },
     "metadata": {},
     "execution_count": 25
    }
   ],
   "source": [
    "output"
   ]
  },
  {
   "cell_type": "code",
   "execution_count": 31,
   "metadata": {},
   "outputs": [
    {
     "output_type": "execute_result",
     "data": {
      "text/plain": [
       "'[{\"family.name\":\"family1\",\"nb_materials\":3,\"min_ms\":8,\"max_ms\":13},{\"family.name\":\"family2\",\"nb_materials\":2,\"min_ms\":4,\"max_ms\":11},{\"family.name\":\"family3\",\"nb_materials\":1,\"min_ms\":10,\"max_ms\":10}]'"
      ]
     },
     "metadata": {},
     "execution_count": 31
    }
   ],
   "source": [
    "output.to_json(orient='records')"
   ]
  },
  {
   "cell_type": "code",
   "execution_count": 34,
   "metadata": {},
   "outputs": [
    {
     "output_type": "stream",
     "name": "stdout",
     "text": [
      "[{\"family.name\":\"family1\",\"nb_materials\":3,\"min_ms\":8,\"max_ms\":13},{\"family.name\":\"family2\",\"nb_materials\":2,\"min_ms\":4,\"max_ms\":11},{\"family.name\":\"family3\",\"nb_materials\":1,\"min_ms\":10,\"max_ms\":10}]\n"
     ]
    }
   ],
   "source": [
    "print(output.to_json(orient='records'))"
   ]
  },
  {
   "cell_type": "code",
   "execution_count": null,
   "metadata": {},
   "outputs": [],
   "source": []
  }
 ]
}